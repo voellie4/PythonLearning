{
 "cells": [
  {
   "cell_type": "code",
   "execution_count": 7,
   "metadata": {},
   "outputs": [
    {
     "name": "stdout",
     "output_type": "stream",
     "text": [
      "Guessing Game Challenge\n",
      "please enter a number: 10\n",
      "Cold\n",
      "please enter a number: 50\n",
      "Warmer!\n",
      "please enter a number: 40\n",
      "Colder\n",
      "please enter a number: 41\n",
      "Warmer!\n",
      "please enter a number: 42\n",
      "Warmer!\n",
      "please enter a number: 43\n",
      "Warmer!\n",
      "please enter a number: 44\n",
      "Warmer!\n",
      "please enter a number: 45\n",
      "Warmer!\n",
      "please enter a number: 46\n",
      "Warmer!\n",
      "please enter a number: 47\n",
      "Warmer!\n",
      "please enter a number: 48\n",
      "Warmer!\n",
      "please enter a number: 49\n",
      "Warmer!\n",
      "please enter a number: 50\n",
      "Warmer!\n",
      "please enter a number: 51\n",
      "Warmer!\n",
      "please enter a number: 52\n",
      "Warmer!\n",
      "please enter a number: 53\n",
      "Warmer!\n",
      "please enter a number: 54\n",
      "Warmer!\n",
      "please enter a number: 55\n",
      "Warmer!\n",
      "please enter a number: 60\n",
      "Warmer!\n",
      "please enter a number: 70\n",
      "Warmer!\n",
      "please enter a number: 80\n",
      "Colder\n",
      "please enter a number: 75\n",
      "Warmer!\n",
      "please enter a number: 76\n",
      "Colder\n",
      "please enter a number: 74\n",
      "Warmer!\n",
      "please enter a number: 73\n",
      "correct. you have 25 guesses.\n"
     ]
    }
   ],
   "source": [
    "from random import randint\n",
    "myNumber = randint(1,100)\n",
    "print('Guessing Game Challenge')\n",
    "guesses=[0]\n",
    "while True:\n",
    "    yourNumber = int(input('please enter a number: '))\n",
    "    if yourNumber == myNumber:\n",
    "        print(f'correct. you have {len(guesses)} guesses.') #use format for number in string\n",
    "        break\n",
    "    if yourNumber < 1 or yourNumber > 100: \n",
    "        print('Out of Bounds')\n",
    "        continue\n",
    "    \n",
    "    guesses.append(yourNumber)\n",
    "    \n",
    "    if guesses[-2]:\n",
    "        if abs(yourNumber-myNumber) <= abs(guesses[-2]-myNumber):\n",
    "            print('Warmer!')\n",
    "        else:\n",
    "            print('Colder')\n",
    "    else:\n",
    "        if abs(yourNumber-myNumber) <= 10:\n",
    "            print('Warm!')\n",
    "        else:\n",
    "            print('Cold')"
   ]
  },
  {
   "cell_type": "code",
   "execution_count": null,
   "metadata": {},
   "outputs": [],
   "source": []
  },
  {
   "cell_type": "code",
   "execution_count": 4,
   "metadata": {},
   "outputs": [
    {
     "name": "stdout",
     "output_type": "stream",
     "text": [
      "Guessing Game Challenge\n"
     ]
    }
   ],
   "source": [
    "print('Guessing Game Challenge')"
   ]
  },
  {
   "cell_type": "code",
   "execution_count": null,
   "metadata": {},
   "outputs": [],
   "source": []
  }
 ],
 "metadata": {
  "kernelspec": {
   "display_name": "Python 3",
   "language": "python",
   "name": "python3"
  },
  "language_info": {
   "codemirror_mode": {
    "name": "ipython",
    "version": 3
   },
   "file_extension": ".py",
   "mimetype": "text/x-python",
   "name": "python",
   "nbconvert_exporter": "python",
   "pygments_lexer": "ipython3",
   "version": "3.7.3"
  }
 },
 "nbformat": 4,
 "nbformat_minor": 2
}
